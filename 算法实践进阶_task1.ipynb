{
  "nbformat": 4,
  "nbformat_minor": 0,
  "metadata": {
    "colab": {
      "name": "算法实践进阶-task1.ipynb",
      "version": "0.3.2",
      "provenance": [],
      "collapsed_sections": []
    },
    "kernelspec": {
      "name": "python3",
      "display_name": "Python 3"
    },
    "accelerator": "GPU"
  },
  "cells": [
    {
      "metadata": {
        "id": "tJ9trV2bV5jz",
        "colab_type": "text"
      },
      "cell_type": "markdown",
      "source": [
        "# 一、准备工作\n",
        "## 1. 指定文件目录"
      ]
    },
    {
      "metadata": {
        "id": "UjCxoGpu-FAG",
        "colab_type": "code",
        "outputId": "6beab342-5ed6-4178-851d-299dd1b4ff70",
        "colab": {
          "base_uri": "https://localhost:8080/",
          "height": 52
        }
      },
      "cell_type": "code",
      "source": [
        "!mkdir -p drive\n",
        "!google-drive-ocamlfuse drive\n",
        "import os\n",
        "\n",
        "os.chdir(\"drive/Colab Notebooks\") \n",
        "!ls"
      ],
      "execution_count": 64,
      "outputs": [
        {
          "output_type": "stream",
          "text": [
            " com2018.ipynb\t data.csv  'one week.ipynb'   网格搜索调参.ipynb\n",
            " data_all.csv\t drive\t    授权代码.ipynb\n"
          ],
          "name": "stdout"
        }
      ]
    },
    {
      "metadata": {
        "id": "5LSHisEw-1FU",
        "colab_type": "text"
      },
      "cell_type": "markdown",
      "source": [
        "## 2. 导入需要的包"
      ]
    },
    {
      "metadata": {
        "id": "zOkTDpAO_NrS",
        "colab_type": "code",
        "colab": {}
      },
      "cell_type": "code",
      "source": [
        "import pandas as pd\n",
        "from sklearn.model_selection import train_test_split\n",
        "import matplotlib.pyplot as plt\n",
        "from imblearn.over_sampling import SMOTE\n"
      ],
      "execution_count": 0,
      "outputs": []
    },
    {
      "metadata": {
        "id": "bVnooc-dGgXT",
        "colab_type": "text"
      },
      "cell_type": "markdown",
      "source": [
        "# 二、读取数据并拆分数据集\n"
      ]
    },
    {
      "metadata": {
        "id": "LM4H4Zj4D53E",
        "colab_type": "text"
      },
      "cell_type": "markdown",
      "source": [
        "跑原始文件的时候会有报错：“'utf-8' codec can't decode byte 0xbf in position 0”。  \n",
        "这是因为数据文件不是utf-8编码格式，所以需要将csv文件另存为utf8 csv格式的，就可以解决该问题。"
      ]
    },
    {
      "metadata": {
        "id": "kcSti7FZGfyN",
        "colab_type": "code",
        "colab": {}
      },
      "cell_type": "code",
      "source": [
        "data_all = pd.read_csv('./data.csv')\n",
        "Y = data_all['status']\n",
        "X = data_all.drop('status', axis=1)\n",
        "\n",
        "# 按7:3拆分成training和testing集，随机种子为2018。随机种子的目的是使每次拆分的结果一致\n",
        "X_train, X_test, Y_train, Y_test = train_test_split(X, Y, test_size=0.3,random_state=2018)"
      ],
      "execution_count": 0,
      "outputs": []
    },
    {
      "metadata": {
        "id": "P3veUqhtGZt6",
        "colab_type": "text"
      },
      "cell_type": "markdown",
      "source": [
        "# 三、数据预处理"
      ]
    },
    {
      "metadata": {
        "id": "vDjh5DZTHCqd",
        "colab_type": "text"
      },
      "cell_type": "markdown",
      "source": [
        "## 1. 概览\n",
        "\n"
      ]
    },
    {
      "metadata": {
        "id": "iPc8SkO-TtX7",
        "colab_type": "text"
      },
      "cell_type": "markdown",
      "source": [
        "* 该训练集，一共有89个变量，3327个样本。  \n",
        "* 很明显第一列没有列名，其实是ID，所以可以直接去掉。  \n",
        "  \n",
        "* 数据的缺失值情况还是比较多，在本次情况中数据缺失并不是空值，而是存在大量的NA值。  \n",
        "\n",
        "* 从数据类型角度来看，有一些object类型的特殊数据。    \n",
        "  \n",
        "|列名|情况说明|\n",
        "| :--- | :--- |\n",
        "|bank_card_no  | 值里面有很多个???               \n",
        "|reg_preference_for_trad| 值里面有很多个???\n",
        "|source| 值都为xs\n",
        "|id_name|值里面有很多个??? \n",
        "|latest_query_time|日期\n",
        "|loans_latest_time|日期\n",
        "\n",
        "     那些值里是??的字段直接去掉，source只有一个值，也可直接去掉。\n"
      ]
    },
    {
      "metadata": {
        "id": "VtT2dYdiGtqR",
        "colab_type": "code",
        "colab": {
          "base_uri": "https://localhost:8080/",
          "height": 1664
        },
        "outputId": "a0c1125c-5b9a-43a1-ddcf-d423897b0399"
      },
      "cell_type": "code",
      "source": [
        "# 总体情况\n",
        "print(X_train.shape)\n",
        "X_train.describe()\n",
        "X_train.info()"
      ],
      "execution_count": 67,
      "outputs": [
        {
          "output_type": "stream",
          "text": [
            "(3327, 89)\n",
            "<class 'pandas.core.frame.DataFrame'>\n",
            "Int64Index: 3327 entries, 110 to 1274\n",
            "Data columns (total 89 columns):\n",
            "Unnamed: 0                                    3327 non-null int64\n",
            "custid                                        3327 non-null int64\n",
            "trade_no                                      3327 non-null float64\n",
            "bank_card_no                                  3327 non-null object\n",
            "low_volume_percent                            3325 non-null float64\n",
            "middle_volume_percent                         3325 non-null float64\n",
            "take_amount_in_later_12_month_highest         3327 non-null int64\n",
            "trans_amount_increase_rate_lately             3325 non-null float64\n",
            "trans_activity_month                          3325 non-null float64\n",
            "trans_activity_day                            3325 non-null float64\n",
            "transd_mcc                                    3325 non-null float64\n",
            "trans_days_interval_filter                    3321 non-null float64\n",
            "trans_days_interval                           3325 non-null float64\n",
            "regional_mobility                             3325 non-null float64\n",
            "student_feature                               1208 non-null float64\n",
            "repayment_capability                          3327 non-null int64\n",
            "is_high_user                                  3327 non-null int64\n",
            "number_of_trans_from_2011                     3325 non-null float64\n",
            "first_transaction_time                        3325 non-null float64\n",
            "historical_trans_amount                       3327 non-null int64\n",
            "historical_trans_day                          3325 non-null float64\n",
            "rank_trad_1_month                             3325 non-null float64\n",
            "trans_amount_3_month                          3327 non-null int64\n",
            "avg_consume_less_12_valid_month               3325 non-null float64\n",
            "abs                                           3327 non-null int64\n",
            "top_trans_count_last_1_month                  3325 non-null float64\n",
            "avg_price_last_12_month                       3327 non-null int64\n",
            "avg_price_top_last_12_valid_month             3249 non-null float64\n",
            "reg_preference_for_trad                       3325 non-null object\n",
            "trans_top_time_last_1_month                   3321 non-null float64\n",
            "trans_top_time_last_6_month                   3321 non-null float64\n",
            "consume_top_time_last_1_month                 3321 non-null float64\n",
            "consume_top_time_last_6_month                 3321 non-null float64\n",
            "cross_consume_count_last_1_month              3037 non-null float64\n",
            "trans_fail_top_count_enum_last_1_month        3314 non-null float64\n",
            "trans_fail_top_count_enum_last_6_month        3314 non-null float64\n",
            "trans_fail_top_count_enum_last_12_month       3314 non-null float64\n",
            "consume_mini_time_last_1_month                3312 non-null float64\n",
            "max_cumulative_consume_later_1_month          3327 non-null int64\n",
            "max_consume_count_later_6_month               3321 non-null float64\n",
            "railway_consume_count_last_12_month           3319 non-null float64\n",
            "pawns_auctions_trusts_consume_last_1_month    3327 non-null int64\n",
            "pawns_auctions_trusts_consume_last_6_month    3327 non-null int64\n",
            "jewelry_consume_count_last_6_month            3319 non-null float64\n",
            "source                                        3327 non-null object\n",
            "first_transaction_day                         3325 non-null float64\n",
            "trans_day_last_12_month                       3325 non-null float64\n",
            "id_name                                       3125 non-null object\n",
            "apply_score                                   3107 non-null float64\n",
            "apply_credibility                             3107 non-null float64\n",
            "query_org_count                               3107 non-null float64\n",
            "query_finance_count                           3107 non-null float64\n",
            "query_cash_count                              3107 non-null float64\n",
            "query_sum_count                               3107 non-null float64\n",
            "latest_query_time                             3107 non-null object\n",
            "latest_one_month_apply                        3107 non-null float64\n",
            "latest_three_month_apply                      3107 non-null float64\n",
            "latest_six_month_apply                        3107 non-null float64\n",
            "loans_score                                   3112 non-null float64\n",
            "loans_credibility_behavior                    3112 non-null float64\n",
            "loans_count                                   3112 non-null float64\n",
            "loans_settle_count                            3112 non-null float64\n",
            "loans_overdue_count                           3112 non-null float64\n",
            "loans_org_count_behavior                      3112 non-null float64\n",
            "consfin_org_count_behavior                    3112 non-null float64\n",
            "loans_cash_count                              3112 non-null float64\n",
            "latest_one_month_loan                         3112 non-null float64\n",
            "latest_three_month_loan                       3112 non-null float64\n",
            "latest_six_month_loan                         3112 non-null float64\n",
            "history_suc_fee                               3112 non-null float64\n",
            "history_fail_fee                              3112 non-null float64\n",
            "latest_one_month_suc                          3112 non-null float64\n",
            "latest_one_month_fail                         3112 non-null float64\n",
            "loans_long_time                               3112 non-null float64\n",
            "loans_latest_time                             3112 non-null object\n",
            "loans_credit_limit                            3112 non-null float64\n",
            "loans_credibility_limit                       3112 non-null float64\n",
            "loans_org_count_current                       3112 non-null float64\n",
            "loans_product_count                           3112 non-null float64\n",
            "loans_max_limit                               3112 non-null float64\n",
            "loans_avg_limit                               3112 non-null float64\n",
            "consfin_credit_limit                          3112 non-null float64\n",
            "consfin_credibility                           3112 non-null float64\n",
            "consfin_org_count_current                     3112 non-null float64\n",
            "consfin_product_count                         3112 non-null float64\n",
            "consfin_max_limit                             3112 non-null float64\n",
            "consfin_avg_limit                             3112 non-null float64\n",
            "latest_query_day                              3107 non-null float64\n",
            "loans_latest_day                              3112 non-null float64\n",
            "dtypes: float64(71), int64(12), object(6)\n",
            "memory usage: 2.3+ MB\n"
          ],
          "name": "stdout"
        }
      ]
    },
    {
      "metadata": {
        "id": "WdmUEwdSJzbS",
        "colab_type": "code",
        "colab": {
          "base_uri": "https://localhost:8080/",
          "height": 121
        },
        "outputId": "fc67183c-e1df-4f9f-9c44-9151ef77a3bd"
      },
      "cell_type": "code",
      "source": [
        "# 找出object类型的列\n",
        "for i in X_train.columns:\n",
        "    if X_train[i].dtypes == 'object':\n",
        "        print(i)"
      ],
      "execution_count": 68,
      "outputs": [
        {
          "output_type": "stream",
          "text": [
            "bank_card_no\n",
            "reg_preference_for_trad\n",
            "source\n",
            "id_name\n",
            "latest_query_time\n",
            "loans_latest_time\n"
          ],
          "name": "stdout"
        }
      ]
    },
    {
      "metadata": {
        "id": "ImY1dvptN731",
        "colab_type": "code",
        "colab": {}
      },
      "cell_type": "code",
      "source": [
        "# 清除第一列和包含???的列\n",
        "X_train.drop(['Unnamed: 0','id_name', 'bank_card_no', 'reg_preference_for_trad',\\\n",
        "              'latest_query_time', 'loans_latest_time','source'], axis=1, inplace=True)\n"
      ],
      "execution_count": 0,
      "outputs": []
    },
    {
      "metadata": {
        "id": "G2h-3JXiXPVi",
        "colab_type": "text"
      },
      "cell_type": "markdown",
      "source": [
        "**遇到问题**：  \n",
        "剩下两个object是日期格式的字段。单纯的日期格式在很多地方都无法直接处理。  \n",
        "需要对日期做进一步的处理。比如转换成年月日三个单独的数据，或者根据字段具体含义做天数或月数计算，或者直接删除日期字段。  \n",
        "这些都需要视具体业务知识来定。  \n",
        "  \n",
        "在这里偷懒了，为了方便起见，直接删除了。其实转换成距离现在的天数差更好？"
      ]
    },
    {
      "metadata": {
        "id": "zzX9bkR1TP02",
        "colab_type": "text"
      },
      "cell_type": "markdown",
      "source": [
        "## 2. 区分离散变量和连续变量"
      ]
    },
    {
      "metadata": {
        "id": "OyKL2HmAUKyW",
        "colab_type": "text"
      },
      "cell_type": "markdown",
      "source": [
        "## 3. 变量筛选"
      ]
    },
    {
      "metadata": {
        "id": "1HqDtOH_aFYE",
        "colab_type": "text"
      },
      "cell_type": "markdown",
      "source": [
        "两种思路：  \n",
        "一是看变量唯一值的个数，如果只有一种值，肯定不要\n",
        "二是采用机器学习方法，信息增益等。"
      ]
    },
    {
      "metadata": {
        "id": "pMTJzUzMUGkI",
        "colab_type": "text"
      },
      "cell_type": "markdown",
      "source": [
        "## 4. 缺失值处理"
      ]
    },
    {
      "metadata": {
        "id": "njgLtsaVbaLc",
        "colab_type": "text"
      },
      "cell_type": "markdown",
      "source": [
        "处理NA的情况。由于已经把object数据删除了，所以剩下的数值型数据，都采用均值填充。"
      ]
    },
    {
      "metadata": {
        "id": "BxM63m8abZhV",
        "colab_type": "code",
        "colab": {}
      },
      "cell_type": "code",
      "source": [
        "imputer = Imputer(strategy='mean')\n",
        "num = imputer.fit_transform(X_train)\n",
        "X_train = pd.DataFrame(num, columns=X_train.columns)"
      ],
      "execution_count": 0,
      "outputs": []
    },
    {
      "metadata": {
        "id": "KjKcjC4iUPJK",
        "colab_type": "text"
      },
      "cell_type": "markdown",
      "source": [
        "## 5. 数据不平衡处理"
      ]
    },
    {
      "metadata": {
        "id": "oUg5mnquU3E3",
        "colab_type": "text"
      },
      "cell_type": "markdown",
      "source": [
        "本次问题存在类别不平衡问题，原始数据类别间比例约为2.5:1。  \n",
        "采用SMOTE方法进行过采样处理。"
      ]
    },
    {
      "metadata": {
        "colab_type": "code",
        "id": "lTIN2KHqjY9c",
        "colab": {
          "base_uri": "https://localhost:8080/",
          "height": 677
        },
        "outputId": "6991ca97-5538-4951-8093-9ce2576668c6"
      },
      "cell_type": "code",
      "source": [
        "# 查看label的分布，存在数据不平衡问题的。直接初步建模也验证了这一现象。\n",
        "plt.hist(Y_train, bins=3)\n",
        "plt.show()\n",
        "plt.hist(Y_test, bins=3)\n",
        "plt.show()"
      ],
      "execution_count": 81,
      "outputs": [
        {
          "output_type": "display_data",
          "data": {
            "image/png": "[encoded data removed]",
            "text/plain": [
              "<Figure size 576x396 with 1 Axes>"
            ]
          },
          "metadata": {
            "tags": []
          }
        },
        {
          "output_type": "display_data",
          "data": {
            "image/png": "[encoded data removed]",
            "text/plain": [
              "<Figure size 576x396 with 1 Axes>"
            ]
          },
          "metadata": {
            "tags": []
          }
        }
      ]
    },
    {
      "metadata": {
        "id": "ELqntdhkU0Sq",
        "colab_type": "code",
        "colab": {}
      },
      "cell_type": "code",
      "source": [
        "over_samples = SMOTE(random_state=2018) \n",
        "over_samples_X,over_samples_y = over_samples.fit_sample(X_train, Y_train)\n",
        "\n",
        "# 重抽样前的类别比例\n",
        "print(Y_train.value_counts()/len(Y_train))\n",
        "# 重抽样后的类别比例\n",
        "print(pd.Series(over_samples_y).value_counts()/len(over_samples_y))"
      ],
      "execution_count": 0,
      "outputs": []
    },
    {
      "metadata": {
        "id": "oZLU5jMvaJ8T",
        "colab_type": "text"
      },
      "cell_type": "markdown",
      "source": [
        "# 四、本次遇到问题或后续待处理\n",
        "1. 日期数据的处理\n",
        "2. 如何自动区分连续变量和离散变量？\n",
        "3. 貌似问号是数据编码问题，其实是中文。如果是中文的话，是直接删除还是需要另做处理？怎么做？\n",
        "4. 缺失值填充，连续变量和离散变量应该分开来处理？\n",
        "5. 时间原因，变量筛选尚为完成，后续补充"
      ]
    }
  ]
}