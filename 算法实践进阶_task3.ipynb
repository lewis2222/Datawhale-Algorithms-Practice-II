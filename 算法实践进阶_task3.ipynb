{
  "nbformat": 4,
  "nbformat_minor": 0,
  "metadata": {
    "colab": {
      "name": "算法实践进阶-task1.ipynb",
      "version": "0.3.2",
      "provenance": [],
      "collapsed_sections": []
    },
    "kernelspec": {
      "name": "python3",
      "display_name": "Python 3"
    },
    "accelerator": "GPU"
  },
  "cells": [
    {
      "metadata": {
        "id": "tJ9trV2bV5jz",
        "colab_type": "text"
      },
      "cell_type": "markdown",
      "source": [
        "# 一、准备工作\n",
        "## 1. 指定文件目录"
      ]
    },
    {
      "metadata": {
        "id": "UjCxoGpu-FAG",
        "colab_type": "code",
        "outputId": "ea12e553-4bbe-4208-d586-df4db545cd34",
        "colab": {
          "base_uri": "https://localhost:8080/",
          "height": 87
        }
      },
      "cell_type": "code",
      "source": [
        "!mkdir -p drive\n",
        "!google-drive-ocamlfuse drive\n",
        "import os\n",
        "\n",
        "os.chdir(\"drive/Colab Notebooks\") \n",
        "!ls"
      ],
      "execution_count": 1,
      "outputs": [
        {
          "output_type": "stream",
          "text": [
            " com2018.ipynb\t     drive\t\t      python基础-task3.ipynb\n",
            " data_all.csv\t     homework.txt\t      授权代码.ipynb\n",
            " data.csv\t    'one week.ipynb'\t      网格搜索调参.ipynb\n",
            " data-原始文件.csv   Python基础-task2.ipynb\n"
          ],
          "name": "stdout"
        }
      ]
    },
    {
      "metadata": {
        "id": "5LSHisEw-1FU",
        "colab_type": "text"
      },
      "cell_type": "markdown",
      "source": [
        "## 2. 导入需要的包"
      ]
    },
    {
      "metadata": {
        "id": "zOkTDpAO_NrS",
        "colab_type": "code",
        "colab": {}
      },
      "cell_type": "code",
      "source": [
        "import pandas as pd\n",
        "from sklearn.model_selection import train_test_split\n",
        "import matplotlib.pyplot as plt\n",
        "from imblearn.over_sampling import SMOTE\n",
        "from sklearn.preprocessing import LabelBinarizer, Imputer\n",
        "from mlxtend.classifier import StackingClassifier\n",
        "from sklearn.model_selection import GridSearchCV\n"
      ],
      "execution_count": 0,
      "outputs": []
    },
    {
      "metadata": {
        "id": "bVnooc-dGgXT",
        "colab_type": "text"
      },
      "cell_type": "markdown",
      "source": [
        "# 二、读取数据并拆分数据集\n"
      ]
    },
    {
      "metadata": {
        "id": "LM4H4Zj4D53E",
        "colab_type": "text"
      },
      "cell_type": "markdown",
      "source": [
        "跑原始文件的时候会有报错：“'utf-8' codec can't decode byte 0xbf in position 0”。  \n",
        "这是因为数据文件不是utf-8编码格式，所以需要将csv文件另存为utf8 csv格式的，就可以解决该问题。"
      ]
    },
    {
      "metadata": {
        "id": "kcSti7FZGfyN",
        "colab_type": "code",
        "colab": {}
      },
      "cell_type": "code",
      "source": [
        "data_all = pd.read_csv('./data-原始文件.csv',encoding='gbk')\n",
        "Y = data_all['status']\n",
        "X = data_all.drop('status', axis=1)\n",
        "\n",
        "# 按7:3拆分成training和testing集，随机种子为2018。随机种子的目的是使每次拆分的结果一致\n",
        "X_train, X_test, Y_train, Y_test = train_test_split(X, Y, test_size=0.3,random_state=2018)"
      ],
      "execution_count": 0,
      "outputs": []
    },
    {
      "metadata": {
        "id": "P3veUqhtGZt6",
        "colab_type": "text"
      },
      "cell_type": "markdown",
      "source": [
        "# 三、数据预处理"
      ]
    },
    {
      "metadata": {
        "id": "vDjh5DZTHCqd",
        "colab_type": "text"
      },
      "cell_type": "markdown",
      "source": [
        "## 1. 概览\n",
        "\n"
      ]
    },
    {
      "metadata": {
        "id": "iPc8SkO-TtX7",
        "colab_type": "text"
      },
      "cell_type": "markdown",
      "source": [
        "* 该训练集，一共有89个变量，3327个样本。  \n",
        "* 很明显第一列没有列名，其实是ID，所以可以直接去掉。  \n",
        "  \n",
        "* 数据的缺失值情况还是比较多，在本次情况中数据缺失并不是空值，而是存在大量的NA值。  \n",
        "\n",
        "* 从数据类型角度来看，有一些object类型的特殊数据。    \n",
        "  \n",
        "|列名|情况说明|\n",
        "| :--- | :--- |\n",
        "|bank_card_no  | 值里面有很多个???               \n",
        "|reg_preference_for_trad| 值里面有很多个???\n",
        "|source| 值都为xs\n",
        "|id_name|值里面有很多个??? \n",
        "|latest_query_time|日期\n",
        "|loans_latest_time|日期\n",
        "\n",
        "     那些值里是??的字段直接去掉，source只有一个值，也可直接去掉。\n"
      ]
    },
    {
      "metadata": {
        "id": "VtT2dYdiGtqR",
        "colab_type": "code",
        "outputId": "ab10b49a-94e9-4d94-f844-5a95ec242087",
        "colab": {
          "base_uri": "https://localhost:8080/",
          "height": 361
        }
      },
      "cell_type": "code",
      "source": [
        "# 总体情况\n",
        "print(X_train.shape)\n",
        "X_train.describe()"
      ],
      "execution_count": 4,
      "outputs": [
        {
          "output_type": "stream",
          "text": [
            "(3327, 89)\n"
          ],
          "name": "stdout"
        },
        {
          "output_type": "execute_result",
          "data": {
            "text/html": [
              "<div>\n",
              "<style scoped>\n",
              "    .dataframe tbody tr th:only-of-type {\n",
              "        vertical-align: middle;\n",
              "    }\n",
              "\n",
              "    .dataframe tbody tr th {\n",
              "        vertical-align: top;\n",
              "    }\n",
              "\n",
              "    .dataframe thead th {\n",
              "        text-align: right;\n",
              "    }\n",
              "</style>\n",
              "<table border=\"1\" class=\"dataframe\">\n",
              "  <thead>\n",
              "    <tr style=\"text-align: right;\">\n",
              "      <th></th>\n",
              "      <th>Unnamed: 0</th>\n",
              "      <th>custid</th>\n",
              "      <th>low_volume_percent</th>\n",
              "      <th>middle_volume_percent</th>\n",
              "      <th>take_amount_in_later_12_month_highest</th>\n",
              "      <th>trans_amount_increase_rate_lately</th>\n",
              "      <th>trans_activity_month</th>\n",
              "      <th>trans_activity_day</th>\n",
              "      <th>transd_mcc</th>\n",
              "      <th>trans_days_interval_filter</th>\n",
              "      <th>...</th>\n",
              "      <th>loans_max_limit</th>\n",
              "      <th>loans_avg_limit</th>\n",
              "      <th>consfin_credit_limit</th>\n",
              "      <th>consfin_credibility</th>\n",
              "      <th>consfin_org_count_current</th>\n",
              "      <th>consfin_product_count</th>\n",
              "      <th>consfin_max_limit</th>\n",
              "      <th>consfin_avg_limit</th>\n",
              "      <th>latest_query_day</th>\n",
              "      <th>loans_latest_day</th>\n",
              "    </tr>\n",
              "  </thead>\n",
              "  <tbody>\n",
              "    <tr>\n",
              "      <th>count</th>\n",
              "      <td>3327.000000</td>\n",
              "      <td>3.327000e+03</td>\n",
              "      <td>3325.000000</td>\n",
              "      <td>3325.000000</td>\n",
              "      <td>3327.000000</td>\n",
              "      <td>3325.000000</td>\n",
              "      <td>3325.000000</td>\n",
              "      <td>3325.000000</td>\n",
              "      <td>3325.000000</td>\n",
              "      <td>3321.000000</td>\n",
              "      <td>...</td>\n",
              "      <td>3112.000000</td>\n",
              "      <td>3112.000000</td>\n",
              "      <td>3112.000000</td>\n",
              "      <td>3112.000000</td>\n",
              "      <td>3112.000000</td>\n",
              "      <td>3112.000000</td>\n",
              "      <td>3112.000000</td>\n",
              "      <td>3112.000000</td>\n",
              "      <td>3107.000000</td>\n",
              "      <td>3112.000000</td>\n",
              "    </tr>\n",
              "    <tr>\n",
              "      <th>mean</th>\n",
              "      <td>5998.984070</td>\n",
              "      <td>1.685829e+06</td>\n",
              "      <td>0.022063</td>\n",
              "      <td>0.902433</td>\n",
              "      <td>1946.735798</td>\n",
              "      <td>19.065489</td>\n",
              "      <td>0.806848</td>\n",
              "      <td>0.364448</td>\n",
              "      <td>17.446316</td>\n",
              "      <td>28.980729</td>\n",
              "      <td>...</td>\n",
              "      <td>3386.825193</td>\n",
              "      <td>1818.745501</td>\n",
              "      <td>9186.278920</td>\n",
              "      <td>76.240681</td>\n",
              "      <td>4.716260</td>\n",
              "      <td>5.200835</td>\n",
              "      <td>16082.776350</td>\n",
              "      <td>7993.420308</td>\n",
              "      <td>24.020277</td>\n",
              "      <td>55.572622</td>\n",
              "    </tr>\n",
              "    <tr>\n",
              "      <th>std</th>\n",
              "      <td>3449.939393</td>\n",
              "      <td>1.039677e+06</td>\n",
              "      <td>0.041444</td>\n",
              "      <td>0.143441</td>\n",
              "      <td>4113.834226</td>\n",
              "      <td>829.746170</td>\n",
              "      <td>0.196462</td>\n",
              "      <td>0.170165</td>\n",
              "      <td>4.486967</td>\n",
              "      <td>22.315568</td>\n",
              "      <td>...</td>\n",
              "      <td>1473.031960</td>\n",
              "      <td>590.992278</td>\n",
              "      <td>7266.313607</td>\n",
              "      <td>13.989810</td>\n",
              "      <td>2.970034</td>\n",
              "      <td>3.398880</td>\n",
              "      <td>14253.689421</td>\n",
              "      <td>5591.836724</td>\n",
              "      <td>37.305071</td>\n",
              "      <td>53.764925</td>\n",
              "    </tr>\n",
              "    <tr>\n",
              "      <th>min</th>\n",
              "      <td>5.000000</td>\n",
              "      <td>1.140000e+02</td>\n",
              "      <td>0.000000</td>\n",
              "      <td>0.000000</td>\n",
              "      <td>0.000000</td>\n",
              "      <td>0.000000</td>\n",
              "      <td>0.120000</td>\n",
              "      <td>0.033000</td>\n",
              "      <td>2.000000</td>\n",
              "      <td>0.000000</td>\n",
              "      <td>...</td>\n",
              "      <td>0.000000</td>\n",
              "      <td>0.000000</td>\n",
              "      <td>0.000000</td>\n",
              "      <td>0.000000</td>\n",
              "      <td>0.000000</td>\n",
              "      <td>0.000000</td>\n",
              "      <td>0.000000</td>\n",
              "      <td>0.000000</td>\n",
              "      <td>-2.000000</td>\n",
              "      <td>-2.000000</td>\n",
              "    </tr>\n",
              "    <tr>\n",
              "      <th>25%</th>\n",
              "      <td>3102.500000</td>\n",
              "      <td>7.545715e+05</td>\n",
              "      <td>0.010000</td>\n",
              "      <td>0.880000</td>\n",
              "      <td>0.000000</td>\n",
              "      <td>0.600000</td>\n",
              "      <td>0.670000</td>\n",
              "      <td>0.230000</td>\n",
              "      <td>15.000000</td>\n",
              "      <td>16.000000</td>\n",
              "      <td>...</td>\n",
              "      <td>2300.000000</td>\n",
              "      <td>1533.000000</td>\n",
              "      <td>4800.000000</td>\n",
              "      <td>77.000000</td>\n",
              "      <td>2.000000</td>\n",
              "      <td>3.000000</td>\n",
              "      <td>7800.000000</td>\n",
              "      <td>4741.500000</td>\n",
              "      <td>5.000000</td>\n",
              "      <td>10.000000</td>\n",
              "    </tr>\n",
              "    <tr>\n",
              "      <th>50%</th>\n",
              "      <td>5960.000000</td>\n",
              "      <td>1.623683e+06</td>\n",
              "      <td>0.010000</td>\n",
              "      <td>0.960000</td>\n",
              "      <td>500.000000</td>\n",
              "      <td>0.970000</td>\n",
              "      <td>0.860000</td>\n",
              "      <td>0.350000</td>\n",
              "      <td>17.000000</td>\n",
              "      <td>24.000000</td>\n",
              "      <td>...</td>\n",
              "      <td>3100.000000</td>\n",
              "      <td>1800.000000</td>\n",
              "      <td>7700.000000</td>\n",
              "      <td>79.000000</td>\n",
              "      <td>4.000000</td>\n",
              "      <td>5.000000</td>\n",
              "      <td>13800.000000</td>\n",
              "      <td>7028.000000</td>\n",
              "      <td>14.000000</td>\n",
              "      <td>36.000000</td>\n",
              "    </tr>\n",
              "    <tr>\n",
              "      <th>75%</th>\n",
              "      <td>8998.000000</td>\n",
              "      <td>2.603724e+06</td>\n",
              "      <td>0.020000</td>\n",
              "      <td>0.990000</td>\n",
              "      <td>2000.000000</td>\n",
              "      <td>1.620000</td>\n",
              "      <td>1.000000</td>\n",
              "      <td>0.477000</td>\n",
              "      <td>20.000000</td>\n",
              "      <td>33.000000</td>\n",
              "      <td>...</td>\n",
              "      <td>4300.000000</td>\n",
              "      <td>2100.000000</td>\n",
              "      <td>11700.000000</td>\n",
              "      <td>80.000000</td>\n",
              "      <td>7.000000</td>\n",
              "      <td>7.000000</td>\n",
              "      <td>20400.000000</td>\n",
              "      <td>9944.000000</td>\n",
              "      <td>23.000000</td>\n",
              "      <td>92.250000</td>\n",
              "    </tr>\n",
              "    <tr>\n",
              "      <th>max</th>\n",
              "      <td>11992.000000</td>\n",
              "      <td>4.004694e+06</td>\n",
              "      <td>1.000000</td>\n",
              "      <td>1.000000</td>\n",
              "      <td>68000.000000</td>\n",
              "      <td>47596.740000</td>\n",
              "      <td>1.000000</td>\n",
              "      <td>0.941000</td>\n",
              "      <td>41.000000</td>\n",
              "      <td>261.000000</td>\n",
              "      <td>...</td>\n",
              "      <td>9800.000000</td>\n",
              "      <td>5600.000000</td>\n",
              "      <td>87100.000000</td>\n",
              "      <td>87.000000</td>\n",
              "      <td>18.000000</td>\n",
              "      <td>20.000000</td>\n",
              "      <td>266400.000000</td>\n",
              "      <td>70200.000000</td>\n",
              "      <td>359.000000</td>\n",
              "      <td>323.000000</td>\n",
              "    </tr>\n",
              "  </tbody>\n",
              "</table>\n",
              "<p>8 rows × 82 columns</p>\n",
              "</div>"
            ],
            "text/plain": [
              "         Unnamed: 0        custid  low_volume_percent  middle_volume_percent  \\\n",
              "count   3327.000000  3.327000e+03         3325.000000            3325.000000   \n",
              "mean    5998.984070  1.685829e+06            0.022063               0.902433   \n",
              "std     3449.939393  1.039677e+06            0.041444               0.143441   \n",
              "min        5.000000  1.140000e+02            0.000000               0.000000   \n",
              "25%     3102.500000  7.545715e+05            0.010000               0.880000   \n",
              "50%     5960.000000  1.623683e+06            0.010000               0.960000   \n",
              "75%     8998.000000  2.603724e+06            0.020000               0.990000   \n",
              "max    11992.000000  4.004694e+06            1.000000               1.000000   \n",
              "\n",
              "       take_amount_in_later_12_month_highest  \\\n",
              "count                            3327.000000   \n",
              "mean                             1946.735798   \n",
              "std                              4113.834226   \n",
              "min                                 0.000000   \n",
              "25%                                 0.000000   \n",
              "50%                               500.000000   \n",
              "75%                              2000.000000   \n",
              "max                             68000.000000   \n",
              "\n",
              "       trans_amount_increase_rate_lately  trans_activity_month  \\\n",
              "count                        3325.000000           3325.000000   \n",
              "mean                           19.065489              0.806848   \n",
              "std                           829.746170              0.196462   \n",
              "min                             0.000000              0.120000   \n",
              "25%                             0.600000              0.670000   \n",
              "50%                             0.970000              0.860000   \n",
              "75%                             1.620000              1.000000   \n",
              "max                         47596.740000              1.000000   \n",
              "\n",
              "       trans_activity_day   transd_mcc  trans_days_interval_filter  \\\n",
              "count         3325.000000  3325.000000                 3321.000000   \n",
              "mean             0.364448    17.446316                   28.980729   \n",
              "std              0.170165     4.486967                   22.315568   \n",
              "min              0.033000     2.000000                    0.000000   \n",
              "25%              0.230000    15.000000                   16.000000   \n",
              "50%              0.350000    17.000000                   24.000000   \n",
              "75%              0.477000    20.000000                   33.000000   \n",
              "max              0.941000    41.000000                  261.000000   \n",
              "\n",
              "             ...         loans_max_limit  loans_avg_limit  \\\n",
              "count        ...             3112.000000      3112.000000   \n",
              "mean         ...             3386.825193      1818.745501   \n",
              "std          ...             1473.031960       590.992278   \n",
              "min          ...                0.000000         0.000000   \n",
              "25%          ...             2300.000000      1533.000000   \n",
              "50%          ...             3100.000000      1800.000000   \n",
              "75%          ...             4300.000000      2100.000000   \n",
              "max          ...             9800.000000      5600.000000   \n",
              "\n",
              "       consfin_credit_limit  consfin_credibility  consfin_org_count_current  \\\n",
              "count           3112.000000          3112.000000                3112.000000   \n",
              "mean            9186.278920            76.240681                   4.716260   \n",
              "std             7266.313607            13.989810                   2.970034   \n",
              "min                0.000000             0.000000                   0.000000   \n",
              "25%             4800.000000            77.000000                   2.000000   \n",
              "50%             7700.000000            79.000000                   4.000000   \n",
              "75%            11700.000000            80.000000                   7.000000   \n",
              "max            87100.000000            87.000000                  18.000000   \n",
              "\n",
              "       consfin_product_count  consfin_max_limit  consfin_avg_limit  \\\n",
              "count            3112.000000        3112.000000        3112.000000   \n",
              "mean                5.200835       16082.776350        7993.420308   \n",
              "std                 3.398880       14253.689421        5591.836724   \n",
              "min                 0.000000           0.000000           0.000000   \n",
              "25%                 3.000000        7800.000000        4741.500000   \n",
              "50%                 5.000000       13800.000000        7028.000000   \n",
              "75%                 7.000000       20400.000000        9944.000000   \n",
              "max                20.000000      266400.000000       70200.000000   \n",
              "\n",
              "       latest_query_day  loans_latest_day  \n",
              "count       3107.000000       3112.000000  \n",
              "mean          24.020277         55.572622  \n",
              "std           37.305071         53.764925  \n",
              "min           -2.000000         -2.000000  \n",
              "25%            5.000000         10.000000  \n",
              "50%           14.000000         36.000000  \n",
              "75%           23.000000         92.250000  \n",
              "max          359.000000        323.000000  \n",
              "\n",
              "[8 rows x 82 columns]"
            ]
          },
          "metadata": {
            "tags": []
          },
          "execution_count": 4
        }
      ]
    },
    {
      "metadata": {
        "id": "5-_51rwkouZH",
        "colab_type": "code",
        "outputId": "b8f84f30-4de7-4ad8-ffca-cd52b1e61ace",
        "colab": {
          "base_uri": "https://localhost:8080/",
          "height": 1647
        }
      },
      "cell_type": "code",
      "source": [
        "X_train.info()"
      ],
      "execution_count": 5,
      "outputs": [
        {
          "output_type": "stream",
          "text": [
            "<class 'pandas.core.frame.DataFrame'>\n",
            "Int64Index: 3327 entries, 110 to 1274\n",
            "Data columns (total 89 columns):\n",
            "Unnamed: 0                                    3327 non-null int64\n",
            "custid                                        3327 non-null int64\n",
            "trade_no                                      3327 non-null object\n",
            "bank_card_no                                  3327 non-null object\n",
            "low_volume_percent                            3325 non-null float64\n",
            "middle_volume_percent                         3325 non-null float64\n",
            "take_amount_in_later_12_month_highest         3327 non-null int64\n",
            "trans_amount_increase_rate_lately             3325 non-null float64\n",
            "trans_activity_month                          3325 non-null float64\n",
            "trans_activity_day                            3325 non-null float64\n",
            "transd_mcc                                    3325 non-null float64\n",
            "trans_days_interval_filter                    3321 non-null float64\n",
            "trans_days_interval                           3325 non-null float64\n",
            "regional_mobility                             3325 non-null float64\n",
            "student_feature                               1208 non-null float64\n",
            "repayment_capability                          3327 non-null int64\n",
            "is_high_user                                  3327 non-null int64\n",
            "number_of_trans_from_2011                     3325 non-null float64\n",
            "first_transaction_time                        3325 non-null float64\n",
            "historical_trans_amount                       3327 non-null int64\n",
            "historical_trans_day                          3325 non-null float64\n",
            "rank_trad_1_month                             3325 non-null float64\n",
            "trans_amount_3_month                          3327 non-null int64\n",
            "avg_consume_less_12_valid_month               3325 non-null float64\n",
            "abs                                           3327 non-null int64\n",
            "top_trans_count_last_1_month                  3325 non-null float64\n",
            "avg_price_last_12_month                       3327 non-null int64\n",
            "avg_price_top_last_12_valid_month             3249 non-null float64\n",
            "reg_preference_for_trad                       3325 non-null object\n",
            "trans_top_time_last_1_month                   3321 non-null float64\n",
            "trans_top_time_last_6_month                   3321 non-null float64\n",
            "consume_top_time_last_1_month                 3321 non-null float64\n",
            "consume_top_time_last_6_month                 3321 non-null float64\n",
            "cross_consume_count_last_1_month              3037 non-null float64\n",
            "trans_fail_top_count_enum_last_1_month        3314 non-null float64\n",
            "trans_fail_top_count_enum_last_6_month        3314 non-null float64\n",
            "trans_fail_top_count_enum_last_12_month       3314 non-null float64\n",
            "consume_mini_time_last_1_month                3312 non-null float64\n",
            "max_cumulative_consume_later_1_month          3327 non-null int64\n",
            "max_consume_count_later_6_month               3321 non-null float64\n",
            "railway_consume_count_last_12_month           3319 non-null float64\n",
            "pawns_auctions_trusts_consume_last_1_month    3327 non-null int64\n",
            "pawns_auctions_trusts_consume_last_6_month    3327 non-null int64\n",
            "jewelry_consume_count_last_6_month            3319 non-null float64\n",
            "source                                        3327 non-null object\n",
            "first_transaction_day                         3325 non-null float64\n",
            "trans_day_last_12_month                       3325 non-null float64\n",
            "id_name                                       3125 non-null object\n",
            "apply_score                                   3107 non-null float64\n",
            "apply_credibility                             3107 non-null float64\n",
            "query_org_count                               3107 non-null float64\n",
            "query_finance_count                           3107 non-null float64\n",
            "query_cash_count                              3107 non-null float64\n",
            "query_sum_count                               3107 non-null float64\n",
            "latest_query_time                             3107 non-null object\n",
            "latest_one_month_apply                        3107 non-null float64\n",
            "latest_three_month_apply                      3107 non-null float64\n",
            "latest_six_month_apply                        3107 non-null float64\n",
            "loans_score                                   3112 non-null float64\n",
            "loans_credibility_behavior                    3112 non-null float64\n",
            "loans_count                                   3112 non-null float64\n",
            "loans_settle_count                            3112 non-null float64\n",
            "loans_overdue_count                           3112 non-null float64\n",
            "loans_org_count_behavior                      3112 non-null float64\n",
            "consfin_org_count_behavior                    3112 non-null float64\n",
            "loans_cash_count                              3112 non-null float64\n",
            "latest_one_month_loan                         3112 non-null float64\n",
            "latest_three_month_loan                       3112 non-null float64\n",
            "latest_six_month_loan                         3112 non-null float64\n",
            "history_suc_fee                               3112 non-null float64\n",
            "history_fail_fee                              3112 non-null float64\n",
            "latest_one_month_suc                          3112 non-null float64\n",
            "latest_one_month_fail                         3112 non-null float64\n",
            "loans_long_time                               3112 non-null float64\n",
            "loans_latest_time                             3112 non-null object\n",
            "loans_credit_limit                            3112 non-null float64\n",
            "loans_credibility_limit                       3112 non-null float64\n",
            "loans_org_count_current                       3112 non-null float64\n",
            "loans_product_count                           3112 non-null float64\n",
            "loans_max_limit                               3112 non-null float64\n",
            "loans_avg_limit                               3112 non-null float64\n",
            "consfin_credit_limit                          3112 non-null float64\n",
            "consfin_credibility                           3112 non-null float64\n",
            "consfin_org_count_current                     3112 non-null float64\n",
            "consfin_product_count                         3112 non-null float64\n",
            "consfin_max_limit                             3112 non-null float64\n",
            "consfin_avg_limit                             3112 non-null float64\n",
            "latest_query_day                              3107 non-null float64\n",
            "loans_latest_day                              3112 non-null float64\n",
            "dtypes: float64(70), int64(12), object(7)\n",
            "memory usage: 2.3+ MB\n"
          ],
          "name": "stdout"
        }
      ]
    },
    {
      "metadata": {
        "id": "WdmUEwdSJzbS",
        "colab_type": "code",
        "outputId": "5c3b1f85-d68e-4bad-b463-72b509bccad7",
        "colab": {
          "base_uri": "https://localhost:8080/",
          "height": 139
        }
      },
      "cell_type": "code",
      "source": [
        "# 找出object类型的列\n",
        "for i in X_train.columns:\n",
        "    if X_train[i].dtypes == 'object':\n",
        "        print(i)"
      ],
      "execution_count": 6,
      "outputs": [
        {
          "output_type": "stream",
          "text": [
            "trade_no\n",
            "bank_card_no\n",
            "reg_preference_for_trad\n",
            "source\n",
            "id_name\n",
            "latest_query_time\n",
            "loans_latest_time\n"
          ],
          "name": "stdout"
        }
      ]
    },
    {
      "metadata": {
        "id": "ImY1dvptN731",
        "colab_type": "code",
        "outputId": "380d5155-23cb-42c5-cb21-a8c66dd1b488",
        "colab": {
          "base_uri": "https://localhost:8080/",
          "height": 104
        }
      },
      "cell_type": "code",
      "source": [
        "# 清除第一列和包含???的列\n",
        "X_train.drop(['Unnamed: 0','id_name', 'bank_card_no', 'reg_preference_for_trad',\\\n",
        "              'latest_query_time', 'loans_latest_time','source'], axis=1, inplace=True)\n"
      ],
      "execution_count": 7,
      "outputs": [
        {
          "output_type": "stream",
          "text": [
            "/usr/local/lib/python3.6/dist-packages/ipykernel_launcher.py:1: SettingWithCopyWarning: \n",
            "A value is trying to be set on a copy of a slice from a DataFrame\n",
            "\n",
            "See the caveats in the documentation: http://pandas.pydata.org/pandas-docs/stable/indexing.html#indexing-view-versus-copy\n",
            "  \"\"\"Entry point for launching an IPython kernel.\n"
          ],
          "name": "stderr"
        }
      ]
    },
    {
      "metadata": {
        "id": "G2h-3JXiXPVi",
        "colab_type": "text"
      },
      "cell_type": "markdown",
      "source": [
        "**遇到问题**：  \n",
        "剩下两个object是日期格式的字段。单纯的日期格式在很多地方都无法直接处理。  \n",
        "需要对日期做进一步的处理。比如转换成年月日三个单独的数据，或者根据字段具体含义做天数或月数计算，或者直接删除日期字段。  \n",
        "这些都需要视具体业务知识来定。  \n",
        "  \n",
        "在这里偷懒了，为了方便起见，直接删除了。其实转换成距离现在的天数差更好？"
      ]
    },
    {
      "metadata": {
        "id": "zzX9bkR1TP02",
        "colab_type": "text"
      },
      "cell_type": "markdown",
      "source": [
        "## 2. 区分离散变量和连续变量"
      ]
    },
    {
      "metadata": {
        "id": "pLo5tJZhMQYN",
        "colab_type": "text"
      },
      "cell_type": "markdown",
      "source": [
        "两种思路：  \n",
        "一是看变量唯一值个数，先挑选出个数较少的，然后看是否是整数类型。  \n",
        "二是画每个变量的直方图的，稀疏离散的一般是离散变量 。  \n",
        "最后再结合字段含义去理解。  "
      ]
    },
    {
      "metadata": {
        "id": "ZkvGF94nQMfT",
        "colab_type": "code",
        "outputId": "08b9ac1a-7e2c-4045-d0ca-b9dda4248127",
        "colab": {
          "base_uri": "https://localhost:8080/",
          "height": 1439
        }
      },
      "cell_type": "code",
      "source": [
        "# 查看每个字段唯一值个数\n",
        "count_value = {}\n",
        "for col in X_train.columns:\n",
        "    count_value[col] = len(X_train[col].unique())\n",
        "sorted(count_value.items(), key=lambda item:item[1])    "
      ],
      "execution_count": 8,
      "outputs": [
        {
          "output_type": "execute_result",
          "data": {
            "text/plain": [
              "[('is_high_user', 2),\n",
              " ('student_feature', 3),\n",
              " ('regional_mobility', 6),\n",
              " ('railway_consume_count_last_12_month', 7),\n",
              " ('jewelry_consume_count_last_6_month', 7),\n",
              " ('top_trans_count_last_1_month', 9),\n",
              " ('avg_consume_less_12_valid_month', 13),\n",
              " ('latest_one_month_loan', 14),\n",
              " ('trans_fail_top_count_enum_last_1_month', 15),\n",
              " ('cross_consume_count_last_1_month', 18),\n",
              " ('query_cash_count', 18),\n",
              " ('consfin_org_count_behavior', 18),\n",
              " ('latest_one_month_suc', 18),\n",
              " ('consfin_org_count_current', 18),\n",
              " ('rank_trad_1_month', 21),\n",
              " ('avg_price_top_last_12_valid_month', 21),\n",
              " ('consfin_product_count', 21),\n",
              " ('consfin_credibility', 24),\n",
              " ('trans_fail_top_count_enum_last_6_month', 25),\n",
              " ('loans_credibility_behavior', 25),\n",
              " ('loans_overdue_count', 25),\n",
              " ('query_finance_count', 26),\n",
              " ('trans_fail_top_count_enum_last_12_month', 27),\n",
              " ('trans_top_time_last_1_month', 29),\n",
              " ('consume_top_time_last_1_month', 29),\n",
              " ('latest_three_month_loan', 29),\n",
              " ('max_consume_count_later_6_month', 30),\n",
              " ('loans_cash_count', 32),\n",
              " ('loans_org_count_current', 32),\n",
              " ('loans_product_count', 32),\n",
              " ('loans_credibility_limit', 33),\n",
              " ('latest_one_month_apply', 35),\n",
              " ('low_volume_percent', 38),\n",
              " ('latest_one_month_fail', 39),\n",
              " ('transd_mcc', 41),\n",
              " ('apply_credibility', 41),\n",
              " ('loans_org_count_behavior', 42),\n",
              " ('query_org_count', 47),\n",
              " ('loans_credit_limit', 53),\n",
              " ('latest_three_month_apply', 55),\n",
              " ('latest_six_month_apply', 62),\n",
              " ('latest_six_month_loan', 66),\n",
              " ('number_of_trans_from_2011', 68),\n",
              " ('query_sum_count', 74),\n",
              " ('middle_volume_percent', 81),\n",
              " ('trans_activity_month', 82),\n",
              " ('loans_max_limit', 89),\n",
              " ('consume_top_time_last_6_month', 91),\n",
              " ('trans_top_time_last_6_month', 92),\n",
              " ('trans_days_interval', 103),\n",
              " ('trans_day_last_12_month', 115),\n",
              " ('loans_settle_count', 117),\n",
              " ('loans_count', 128),\n",
              " ('history_fail_fee', 133),\n",
              " ('trans_days_interval_filter', 137),\n",
              " ('take_amount_in_later_12_month_highest', 145),\n",
              " ('consfin_max_limit', 158),\n",
              " ('history_suc_fee', 163),\n",
              " ('loans_long_time', 183),\n",
              " ('latest_query_day', 187),\n",
              " ('apply_score', 203),\n",
              " ('loans_latest_day', 225),\n",
              " ('loans_score', 237),\n",
              " ('avg_price_last_12_month', 301),\n",
              " ('consfin_credit_limit', 301),\n",
              " ('historical_trans_day', 450),\n",
              " ('trans_activity_day', 487),\n",
              " ('pawns_auctions_trusts_consume_last_1_month', 495),\n",
              " ('trans_amount_increase_rate_lately', 659),\n",
              " ('max_cumulative_consume_later_1_month', 729),\n",
              " ('loans_avg_limit', 844),\n",
              " ('consfin_avg_limit', 1319),\n",
              " ('abs', 1393),\n",
              " ('consume_mini_time_last_1_month', 1404),\n",
              " ('first_transaction_time', 1478),\n",
              " ('first_transaction_day', 1478),\n",
              " ('repayment_capability', 1965),\n",
              " ('pawns_auctions_trusts_consume_last_6_month', 2146),\n",
              " ('trans_amount_3_month', 2652),\n",
              " ('historical_trans_amount', 3200),\n",
              " ('custid', 3327),\n",
              " ('trade_no', 3327)]"
            ]
          },
          "metadata": {
            "tags": []
          },
          "execution_count": 8
        }
      ]
    },
    {
      "metadata": {
        "id": "Wto5R4u4S43J",
        "colab_type": "text"
      },
      "cell_type": "markdown",
      "source": [
        "对属性值个数小于10个的进行分析：  \n",
        " ('is_high_user', 2)  \n",
        " ('student_feature', 3)  \n",
        " ('regional_mobility', 6)  \n",
        " ('railway_consume_count_last_12_month', 7)  \n",
        " ('jewelry_consume_count_last_6_month', 7)  \n",
        " ('top_trans_count_last_1_month', 9  \n",
        " \n",
        " 后三个是在过去几个月中的消费/交易计数，统计值，我们认为这是连续数值型属性，不作处理。  \n",
        " \n",
        " is_high_user的取值是0和1，是离散分类变量。  \n",
        " \n",
        " student_feature取值是NA、1和2，暂时当做是离散分类变量。"
      ]
    },
    {
      "metadata": {
        "id": "OyKL2HmAUKyW",
        "colab_type": "text"
      },
      "cell_type": "markdown",
      "source": [
        "## 3. 变量筛选"
      ]
    },
    {
      "metadata": {
        "id": "1HqDtOH_aFYE",
        "colab_type": "text"
      },
      "cell_type": "markdown",
      "source": [
        "一是看变量唯一值的个数，如果只有一种值，肯定不要。  \n",
        "二是缺失值过多的变量也不要，这里判断依据是缺失值超过2/3。  \n",
        "三是采用机器学习方法，信息增益等。"
      ]
    },
    {
      "metadata": {
        "id": "Y8c1vI5CMEsS",
        "colab_type": "code",
        "outputId": "3b48757c-10c0-482b-d558-066221011ddf",
        "colab": {
          "base_uri": "https://localhost:8080/",
          "height": 1092
        }
      },
      "cell_type": "code",
      "source": [
        "# 变量取值个数之前已完成\n",
        "# 查看缺失值个数\n",
        "\n",
        "data_isnull = X_train.isnull().sum(axis=0)\n",
        "data_isnull[data_isnull != 0].sort_values(ascending=False)"
      ],
      "execution_count": 9,
      "outputs": [
        {
          "output_type": "execute_result",
          "data": {
            "text/plain": [
              "student_feature                            2119\n",
              "cross_consume_count_last_1_month            290\n",
              "query_finance_count                         220\n",
              "query_cash_count                            220\n",
              "latest_six_month_apply                      220\n",
              "latest_three_month_apply                    220\n",
              "query_sum_count                             220\n",
              "latest_one_month_apply                      220\n",
              "latest_query_day                            220\n",
              "query_org_count                             220\n",
              "apply_credibility                           220\n",
              "apply_score                                 220\n",
              "latest_one_month_loan                       215\n",
              "loans_score                                 215\n",
              "loans_credibility_behavior                  215\n",
              "loans_count                                 215\n",
              "loans_settle_count                          215\n",
              "loans_overdue_count                         215\n",
              "loans_org_count_behavior                    215\n",
              "consfin_org_count_behavior                  215\n",
              "loans_cash_count                            215\n",
              "loans_latest_day                            215\n",
              "latest_three_month_loan                     215\n",
              "loans_product_count                         215\n",
              "latest_six_month_loan                       215\n",
              "consfin_max_limit                           215\n",
              "consfin_avg_limit                           215\n",
              "consfin_product_count                       215\n",
              "consfin_org_count_current                   215\n",
              "consfin_credibility                         215\n",
              "                                           ... \n",
              "history_suc_fee                             215\n",
              "avg_price_top_last_12_valid_month            78\n",
              "consume_mini_time_last_1_month               15\n",
              "trans_fail_top_count_enum_last_12_month      13\n",
              "trans_fail_top_count_enum_last_1_month       13\n",
              "trans_fail_top_count_enum_last_6_month       13\n",
              "jewelry_consume_count_last_6_month            8\n",
              "railway_consume_count_last_12_month           8\n",
              "max_consume_count_later_6_month               6\n",
              "consume_top_time_last_6_month                 6\n",
              "consume_top_time_last_1_month                 6\n",
              "trans_top_time_last_6_month                   6\n",
              "trans_top_time_last_1_month                   6\n",
              "trans_days_interval_filter                    6\n",
              "regional_mobility                             2\n",
              "middle_volume_percent                         2\n",
              "trans_amount_increase_rate_lately             2\n",
              "trans_activity_month                          2\n",
              "trans_activity_day                            2\n",
              "transd_mcc                                    2\n",
              "trans_days_interval                           2\n",
              "first_transaction_time                        2\n",
              "trans_day_last_12_month                       2\n",
              "number_of_trans_from_2011                     2\n",
              "historical_trans_day                          2\n",
              "rank_trad_1_month                             2\n",
              "avg_consume_less_12_valid_month               2\n",
              "top_trans_count_last_1_month                  2\n",
              "first_transaction_day                         2\n",
              "low_volume_percent                            2\n",
              "Length: 70, dtype: int64"
            ]
          },
          "metadata": {
            "tags": []
          },
          "execution_count": 9
        }
      ]
    },
    {
      "metadata": {
        "id": "lRgpfPQ5WPZz",
        "colab_type": "text"
      },
      "cell_type": "markdown",
      "source": [
        "student_feature 缺失2000多个，直接删除该属性。"
      ]
    },
    {
      "metadata": {
        "id": "pEvQrcMOWW56",
        "colab_type": "code",
        "outputId": "373f3401-fe71-4b32-b4cb-027250eec42d",
        "colab": {
          "base_uri": "https://localhost:8080/",
          "height": 104
        }
      },
      "cell_type": "code",
      "source": [
        "X_train.drop(['student_feature'], axis=1, inplace=True)"
      ],
      "execution_count": 10,
      "outputs": [
        {
          "output_type": "stream",
          "text": [
            "/usr/local/lib/python3.6/dist-packages/ipykernel_launcher.py:1: SettingWithCopyWarning: \n",
            "A value is trying to be set on a copy of a slice from a DataFrame\n",
            "\n",
            "See the caveats in the documentation: http://pandas.pydata.org/pandas-docs/stable/indexing.html#indexing-view-versus-copy\n",
            "  \"\"\"Entry point for launching an IPython kernel.\n"
          ],
          "name": "stderr"
        }
      ]
    },
    {
      "metadata": {
        "id": "pMTJzUzMUGkI",
        "colab_type": "text"
      },
      "cell_type": "markdown",
      "source": [
        "## 4. 缺失值处理"
      ]
    },
    {
      "metadata": {
        "id": "njgLtsaVbaLc",
        "colab_type": "text"
      },
      "cell_type": "markdown",
      "source": [
        "处理NA的情况。由于已经把object数据删除了，所以剩下的数值型数据，都采用均值填充。"
      ]
    },
    {
      "metadata": {
        "id": "BxM63m8abZhV",
        "colab_type": "code",
        "outputId": "849be6b8-2e2b-4734-c67b-f05357ea58c6",
        "colab": {
          "base_uri": "https://localhost:8080/",
          "height": 1563
        }
      },
      "cell_type": "code",
      "source": [
        "imputer = Imputer(strategy='mean')\n",
        "num = imputer.fit_transform(X_train)\n",
        "X_train = pd.DataFrame(num, columns=X_train.columns)\n",
        "X_train.info()"
      ],
      "execution_count": 11,
      "outputs": [
        {
          "output_type": "stream",
          "text": [
            "/usr/local/lib/python3.6/dist-packages/sklearn/utils/deprecation.py:58: DeprecationWarning: Class Imputer is deprecated; Imputer was deprecated in version 0.20 and will be removed in 0.22. Import impute.SimpleImputer from sklearn instead.\n",
            "  warnings.warn(msg, category=DeprecationWarning)\n"
          ],
          "name": "stderr"
        },
        {
          "output_type": "stream",
          "text": [
            "<class 'pandas.core.frame.DataFrame'>\n",
            "RangeIndex: 3327 entries, 0 to 3326\n",
            "Data columns (total 81 columns):\n",
            "custid                                        3327 non-null float64\n",
            "trade_no                                      3327 non-null float64\n",
            "low_volume_percent                            3327 non-null float64\n",
            "middle_volume_percent                         3327 non-null float64\n",
            "take_amount_in_later_12_month_highest         3327 non-null float64\n",
            "trans_amount_increase_rate_lately             3327 non-null float64\n",
            "trans_activity_month                          3327 non-null float64\n",
            "trans_activity_day                            3327 non-null float64\n",
            "transd_mcc                                    3327 non-null float64\n",
            "trans_days_interval_filter                    3327 non-null float64\n",
            "trans_days_interval                           3327 non-null float64\n",
            "regional_mobility                             3327 non-null float64\n",
            "repayment_capability                          3327 non-null float64\n",
            "is_high_user                                  3327 non-null float64\n",
            "number_of_trans_from_2011                     3327 non-null float64\n",
            "first_transaction_time                        3327 non-null float64\n",
            "historical_trans_amount                       3327 non-null float64\n",
            "historical_trans_day                          3327 non-null float64\n",
            "rank_trad_1_month                             3327 non-null float64\n",
            "trans_amount_3_month                          3327 non-null float64\n",
            "avg_consume_less_12_valid_month               3327 non-null float64\n",
            "abs                                           3327 non-null float64\n",
            "top_trans_count_last_1_month                  3327 non-null float64\n",
            "avg_price_last_12_month                       3327 non-null float64\n",
            "avg_price_top_last_12_valid_month             3327 non-null float64\n",
            "trans_top_time_last_1_month                   3327 non-null float64\n",
            "trans_top_time_last_6_month                   3327 non-null float64\n",
            "consume_top_time_last_1_month                 3327 non-null float64\n",
            "consume_top_time_last_6_month                 3327 non-null float64\n",
            "cross_consume_count_last_1_month              3327 non-null float64\n",
            "trans_fail_top_count_enum_last_1_month        3327 non-null float64\n",
            "trans_fail_top_count_enum_last_6_month        3327 non-null float64\n",
            "trans_fail_top_count_enum_last_12_month       3327 non-null float64\n",
            "consume_mini_time_last_1_month                3327 non-null float64\n",
            "max_cumulative_consume_later_1_month          3327 non-null float64\n",
            "max_consume_count_later_6_month               3327 non-null float64\n",
            "railway_consume_count_last_12_month           3327 non-null float64\n",
            "pawns_auctions_trusts_consume_last_1_month    3327 non-null float64\n",
            "pawns_auctions_trusts_consume_last_6_month    3327 non-null float64\n",
            "jewelry_consume_count_last_6_month            3327 non-null float64\n",
            "first_transaction_day                         3327 non-null float64\n",
            "trans_day_last_12_month                       3327 non-null float64\n",
            "apply_score                                   3327 non-null float64\n",
            "apply_credibility                             3327 non-null float64\n",
            "query_org_count                               3327 non-null float64\n",
            "query_finance_count                           3327 non-null float64\n",
            "query_cash_count                              3327 non-null float64\n",
            "query_sum_count                               3327 non-null float64\n",
            "latest_one_month_apply                        3327 non-null float64\n",
            "latest_three_month_apply                      3327 non-null float64\n",
            "latest_six_month_apply                        3327 non-null float64\n",
            "loans_score                                   3327 non-null float64\n",
            "loans_credibility_behavior                    3327 non-null float64\n",
            "loans_count                                   3327 non-null float64\n",
            "loans_settle_count                            3327 non-null float64\n",
            "loans_overdue_count                           3327 non-null float64\n",
            "loans_org_count_behavior                      3327 non-null float64\n",
            "consfin_org_count_behavior                    3327 non-null float64\n",
            "loans_cash_count                              3327 non-null float64\n",
            "latest_one_month_loan                         3327 non-null float64\n",
            "latest_three_month_loan                       3327 non-null float64\n",
            "latest_six_month_loan                         3327 non-null float64\n",
            "history_suc_fee                               3327 non-null float64\n",
            "history_fail_fee                              3327 non-null float64\n",
            "latest_one_month_suc                          3327 non-null float64\n",
            "latest_one_month_fail                         3327 non-null float64\n",
            "loans_long_time                               3327 non-null float64\n",
            "loans_credit_limit                            3327 non-null float64\n",
            "loans_credibility_limit                       3327 non-null float64\n",
            "loans_org_count_current                       3327 non-null float64\n",
            "loans_product_count                           3327 non-null float64\n",
            "loans_max_limit                               3327 non-null float64\n",
            "loans_avg_limit                               3327 non-null float64\n",
            "consfin_credit_limit                          3327 non-null float64\n",
            "consfin_credibility                           3327 non-null float64\n",
            "consfin_org_count_current                     3327 non-null float64\n",
            "consfin_product_count                         3327 non-null float64\n",
            "consfin_max_limit                             3327 non-null float64\n",
            "consfin_avg_limit                             3327 non-null float64\n",
            "latest_query_day                              3327 non-null float64\n",
            "loans_latest_day                              3327 non-null float64\n",
            "dtypes: float64(81)\n",
            "memory usage: 2.1 MB\n"
          ],
          "name": "stdout"
        }
      ]
    },
    {
      "metadata": {
        "id": "KjKcjC4iUPJK",
        "colab_type": "text"
      },
      "cell_type": "markdown",
      "source": [
        "## 5. 数据不平衡处理"
      ]
    },
    {
      "metadata": {
        "id": "oUg5mnquU3E3",
        "colab_type": "text"
      },
      "cell_type": "markdown",
      "source": [
        "本次问题存在类别不平衡问题，原始数据类别间比例约为2.5:1。  \n",
        "采用SMOTE方法进行过采样处理。"
      ]
    },
    {
      "metadata": {
        "colab_type": "code",
        "id": "lTIN2KHqjY9c",
        "outputId": "0e69184d-599b-43fc-96fa-3e10e331e9d1",
        "colab": {
          "base_uri": "https://localhost:8080/",
          "height": 677
        }
      },
      "cell_type": "code",
      "source": [
        "# 查看label的分布，存在数据不平衡问题的。直接初步建模也验证了这一现象。\n",
        "plt.hist(Y_train, bins=3)\n",
        "plt.show()\n",
        "plt.hist(Y_test, bins=3)\n",
        "plt.show()"
      ],
      "execution_count": 12,
      "outputs": [
        {
          "output_type": "display_data",
          "data": {
            "image/png": "[encoded data removed]",
            "text/plain": [
              "<Figure size 576x396 with 1 Axes>"
            ]
          },
          "metadata": {
            "tags": []
          }
        },
        {
          "output_type": "display_data",
          "data": {
            "image/png": "[encoded data removed]",
            "text/plain": [
              "<Figure size 576x396 with 1 Axes>"
            ]
          },
          "metadata": {
            "tags": []
          }
        }
      ]
    },
    {
      "metadata": {
        "id": "ELqntdhkU0Sq",
        "colab_type": "code",
        "outputId": "c0106874-e765-4b02-901e-98af90f946ee",
        "colab": {
          "base_uri": "https://localhost:8080/",
          "height": 121
        }
      },
      "cell_type": "code",
      "source": [
        "over_samples = SMOTE(random_state=2018) \n",
        "over_samples_X,over_samples_y = over_samples.fit_sample(X_train, Y_train)\n",
        "\n",
        "# 重抽样前的类别比例\n",
        "print(Y_train.value_counts()/len(Y_train))\n",
        "# 重抽样后的类别比例\n",
        "print(pd.Series(over_samples_y).value_counts()/len(over_samples_y))\n",
        "\n",
        "df = pd.DataFrame(over_samples_X)\n",
        "df.columns = list(X_train[1:0])\n",
        "over_samples_X = df\n",
        "over_samples_y = pd.DataFrame(over_samples_y)"
      ],
      "execution_count": 13,
      "outputs": [
        {
          "output_type": "stream",
          "text": [
            "0    0.749324\n",
            "1    0.250676\n",
            "Name: status, dtype: float64\n",
            "1    0.5\n",
            "0    0.5\n",
            "dtype: float64\n"
          ],
          "name": "stdout"
        }
      ]
    },
    {
      "metadata": {
        "id": "oZLU5jMvaJ8T",
        "colab_type": "text"
      },
      "cell_type": "markdown",
      "source": [
        "# 四、本次遇到问题或后续待处理\n",
        "1. 日期数据的处理\n",
        "2. 如何自动区分连续变量和离散变量？\n",
        "3. 貌似问号是数据编码问题，其实是中文。如果是中文的话，是直接删除还是需要另做处理？怎么做？\n",
        "4. 缺失值填充，连续变量和离散变量应该分开来处理？\n",
        "5. 时间原因，变量筛选尚为完成，后续补充"
      ]
    },
    {
      "metadata": {
        "id": "4vqr2-y1mLye",
        "colab_type": "text"
      },
      "cell_type": "markdown",
      "source": [
        "# 特征工程"
      ]
    },
    {
      "metadata": {
        "id": "nExsi8nomUA3",
        "colab_type": "text"
      },
      "cell_type": "markdown",
      "source": [
        "## IV方法筛选变量\n",
        "通过信息增益的方法来筛选变量。  \n",
        "在此之前，需要对连续变量进行离散化处理。  "
      ]
    },
    {
      "metadata": {
        "id": "3BYuaSt0mKe9",
        "colab_type": "code",
        "colab": {}
      },
      "cell_type": "code",
      "source": [
        "from sklearn.tree import DecisionTreeClassifier\n",
        "\n"
      ],
      "execution_count": 0,
      "outputs": []
    },
    {
      "metadata": {
        "id": "1Qs6-TwLw5Hp",
        "colab_type": "text"
      },
      "cell_type": "markdown",
      "source": [
        "## 随机森林筛选变量\n"
      ]
    },
    {
      "metadata": {
        "id": "etgS6IkUw-bw",
        "colab_type": "code",
        "outputId": "0b91d921-c06a-44c2-8cbb-947b677a0486",
        "colab": {
          "base_uri": "https://localhost:8080/",
          "height": 1476
        }
      },
      "cell_type": "code",
      "source": [
        "from sklearn.ensemble import RandomForestClassifier\n",
        "import numpy as np\n",
        "feat_labels = data_all.columns[1:]\n",
        "\n",
        "clf = RandomForestClassifier(n_estimators=100, random_state=2018, n_jobs=-1)\n",
        "clf.fit(over_samples_X, over_samples_y)\n",
        "importances = clf.feature_importances_\n",
        "indices = np.argsort(importances)[::-1]\n",
        "for f in range(over_samples_X.shape[1]):\n",
        "    print(\"%2d) %-*s %f\" % (f + 1, 30, feat_labels[indices[f]], importances[indices[f]]))"
      ],
      "execution_count": 15,
      "outputs": [
        {
          "output_type": "stream",
          "text": [
            "/usr/local/lib/python3.6/dist-packages/ipykernel_launcher.py:6: DataConversionWarning: A column-vector y was passed when a 1d array was expected. Please change the shape of y to (n_samples,), for example using ravel().\n",
            "  \n"
          ],
          "name": "stderr"
        },
        {
          "output_type": "stream",
          "text": [
            " 1) consume_top_time_last_1_month  0.099910\n",
            " 2) loans_org_count_behavior       0.052795\n",
            " 3) consume_top_time_last_6_month  0.041965\n",
            " 4) latest_one_month_apply         0.036360\n",
            " 5) loans_cash_count               0.031163\n",
            " 6) pawns_auctions_trusts_consume_last_6_month 0.029163\n",
            " 7) query_finance_count            0.023588\n",
            " 8) jewelry_consume_count_last_6_month 0.023496\n",
            " 9) consfin_org_count_behavior     0.022374\n",
            "10) avg_consume_less_12_valid_month 0.022077\n",
            "11) cross_consume_count_last_1_month 0.021784\n",
            "12) historical_trans_amount        0.015792\n",
            "13) custid                         0.015296\n",
            "14) loans_max_limit                0.014784\n",
            "15) loans_avg_limit                0.013825\n",
            "16) trans_days_interval_filter     0.013755\n",
            "17) avg_price_top_last_12_valid_month 0.012181\n",
            "18) transd_mcc                     0.011632\n",
            "19) bank_card_no                   0.011481\n",
            "20) latest_one_month_loan          0.010807\n",
            "21) historical_trans_day           0.010402\n",
            "22) max_consume_count_later_6_month 0.010320\n",
            "23) trans_top_time_last_1_month    0.010269\n",
            "24) regional_mobility              0.010202\n",
            "25) take_amount_in_later_12_month_highest 0.010131\n",
            "26) loans_count                    0.010072\n",
            "27) is_high_user                   0.010023\n",
            "28) avg_price_last_12_month        0.009769\n",
            "29) reg_preference_for_trad        0.009550\n",
            "30) top_trans_count_last_1_month   0.009549\n",
            "31) trans_amount_3_month           0.009535\n",
            "32) status                         0.009462\n",
            "33) low_volume_percent             0.009370\n",
            "34) abs                            0.009185\n",
            "35) loans_org_count_current        0.009102\n",
            "36) loans_product_count            0.009071\n",
            "37) loans_overdue_count            0.008972\n",
            "38) trans_fail_top_count_enum_last_6_month 0.008940\n",
            "39) middle_volume_percent          0.008878\n",
            "40) number_of_trans_from_2011      0.008859\n",
            "41) latest_one_month_suc           0.008804\n",
            "42) loans_latest_time              0.008789\n",
            "43) pawns_auctions_trusts_consume_last_1_month 0.008771\n",
            "44) first_transaction_time         0.008684\n",
            "45) latest_three_month_apply       0.008617\n",
            "46) latest_one_month_fail          0.008598\n",
            "47) trans_amount_increase_rate_lately 0.008582\n",
            "48) repayment_capability           0.008530\n",
            "49) trans_activity_month           0.008509\n",
            "50) loans_long_time                0.008474\n",
            "51) latest_query_time              0.008441\n",
            "52) rank_trad_1_month              0.008271\n",
            "53) trans_days_interval            0.008259\n",
            "54) loans_settle_count             0.008249\n",
            "55) trans_activity_day             0.008181\n",
            "56) trans_fail_top_count_enum_last_1_month 0.007950\n",
            "57) loans_credibility_behavior     0.007893\n",
            "58) history_fail_fee               0.007762\n",
            "59) latest_six_month_apply         0.007728\n",
            "60) source                         0.007627\n",
            "61) apply_credibility              0.007511\n",
            "62) loans_score                    0.007466\n",
            "63) trans_fail_top_count_enum_last_12_month 0.007315\n",
            "64) trans_day_last_12_month        0.007299\n",
            "65) loans_credibility_limit        0.007284\n",
            "66) latest_three_month_loan        0.007145\n",
            "67) query_cash_count               0.007037\n",
            "68) id_name                        0.006912\n",
            "69) query_sum_count                0.006880\n",
            "70) history_suc_fee                0.006870\n",
            "71) latest_six_month_loan          0.006756\n",
            "72) query_org_count                0.006555\n",
            "73) loans_credit_limit             0.006193\n",
            "74) max_cumulative_consume_later_1_month 0.006162\n",
            "75) first_transaction_day          0.006111\n",
            "76) apply_score                    0.005857\n",
            "77) trans_top_time_last_6_month    0.005716\n",
            "78) trade_no                       0.001441\n",
            "79) consume_mini_time_last_1_month 0.000574\n",
            "80) student_feature                0.000199\n",
            "81) railway_consume_count_last_12_month 0.000108\n"
          ],
          "name": "stdout"
        }
      ]
    },
    {
      "metadata": {
        "id": "D0FKNpL4RKVD",
        "colab_type": "code",
        "outputId": "ce1d7bff-e2cb-4f01-e4d5-ffedddc621bb",
        "colab": {
          "base_uri": "https://localhost:8080/",
          "height": 35
        }
      },
      "cell_type": "code",
      "source": [
        "type(over_samples_X)"
      ],
      "execution_count": 16,
      "outputs": [
        {
          "output_type": "execute_result",
          "data": {
            "text/plain": [
              "pandas.core.frame.DataFrame"
            ]
          },
          "metadata": {
            "tags": []
          },
          "execution_count": 16
        }
      ]
    },
    {
      "metadata": {
        "id": "sc9tyWMU2sc1",
        "colab_type": "code",
        "outputId": "19b4628b-8696-4d23-8ac6-52b11def45e5",
        "colab": {
          "base_uri": "https://localhost:8080/",
          "height": 35
        }
      },
      "cell_type": "code",
      "source": [
        "\n",
        "# 筛选 重要度>0.01的变量\n",
        "threshold = 0.01\n",
        "X_selected = over_samples_X.loc[:, importances > 0.01]\n",
        "X_selected.shape"
      ],
      "execution_count": 17,
      "outputs": [
        {
          "output_type": "execute_result",
          "data": {
            "text/plain": [
              "(4986, 27)"
            ]
          },
          "metadata": {
            "tags": []
          },
          "execution_count": 17
        }
      ]
    },
    {
      "metadata": {
        "id": "160XvNSUSQD2",
        "colab_type": "text"
      },
      "cell_type": "markdown",
      "source": [
        "over_samples_X已经改为了DataFrame格式，所以调用应该用over_samples_X.loc  \n",
        "如果直接跑over_samples_X[:, importances > 0.01]，会提示报错 `unhashable type: 'slice'``\n"
      ]
    },
    {
      "metadata": {
        "id": "Vd9PiSGu2b4B",
        "colab_type": "text"
      },
      "cell_type": "markdown",
      "source": [
        "## 各种模型\n"
      ]
    },
    {
      "metadata": {
        "id": "R36VlfLb3tbC",
        "colab_type": "code",
        "outputId": "57196ac7-9581-4f81-ea6f-9ded019d9522",
        "colab": {
          "base_uri": "https://localhost:8080/",
          "height": 3679
        }
      },
      "cell_type": "code",
      "source": [
        "from __future__ import print_function\n",
        "import pandas as pd\n",
        "import numpy as np\n",
        "import matplotlib.pyplot as plt\n",
        "# 引入要用到的评价函数\n",
        "from sklearn.metrics import precision_score,roc_auc_score\n",
        "from sklearn.metrics import accuracy_score\n",
        "from sklearn.metrics import precision_score\n",
        "from sklearn.metrics import recall_score\n",
        "from sklearn.metrics import f1_score\n",
        "from sklearn.metrics import roc_curve, auc\n",
        "\n",
        "# 引入用到的分类算法\n",
        "from sklearn.ensemble import RandomForestClassifier\n",
        "from sklearn.ensemble import GradientBoostingClassifier\n",
        "from sklearn.model_selection import train_test_split\n",
        "from sklearn.preprocessing import scale\n",
        "from sklearn.model_selection import train_test_split\n",
        "from sklearn.linear_model import LogisticRegression\n",
        "from sklearn.tree import DecisionTreeClassifier\n",
        "from sklearn.svm import LinearSVC\n",
        "from xgboost import XGBClassifier\n",
        "from lightgbm import LGBMClassifier\n",
        "\n",
        "# 定义一个包含多个评价指标的函数\n",
        "def multi_score(model,x_test,y_test):\n",
        "    test_predict=model.predict(x_test)\n",
        "    if hasattr(model,'decision_function'):\n",
        "        pre_test=model.decision_function(x_test)\n",
        "    else:\n",
        "        pre_test=model.predict_proba(x_test)[:,1]\n",
        "    print(\"准确率\",accuracy_score(y_test,test_predict))\n",
        "    print(\"精确率\",precision_score(y_test,test_predict))\n",
        "    print(\"召回率\",recall_score(y_test,test_predict))\n",
        "    print(\"F1-score\",f1_score(y_test,test_predict))\n",
        "    print(\"AUC\",roc_auc_score(y_test,pre_test))\n",
        "    false_positive_rate,true_positive_rate,thresholds=roc_curve(y_test,pre_test)\n",
        "    roc_auc=auc(false_positive_rate, true_positive_rate)\n",
        "    plt.title('ROC')\n",
        "    plt.plot(false_positive_rate, true_positive_rate,'b',label='AUC = %0.4f'% roc_auc)\n",
        "    plt.legend(loc='lower right')\n",
        "    plt.plot([0,1],[0,1],'r--')\n",
        "    plt.ylabel('True Positive Rate')\n",
        "    plt.xlabel('False Positive Rate')\n",
        "    plt.show()\n",
        "\n",
        "# 依次训练不同分类器\n",
        "# LogisticRegression\n",
        "lr = LogisticRegression(random_state =2018)\n",
        "lr.fit(X_selected, over_samples_y)\n",
        "\n",
        "# 决策树\n",
        "dt = DecisionTreeClassifier(random_state=2018)\n",
        "dt.fit(X_selected, over_samples_y)\n",
        "\n",
        "# SVM\n",
        "svm_linearSVC = LinearSVC(random_state=2018)\n",
        "svm_linearSVC.fit(X_selected, over_samples_y)\n",
        "\n",
        "# 随机森林\n",
        "rfc = RandomForestClassifier(n_estimators=100, random_state=2018)\n",
        "rfc.fit(X_selected, over_samples_y)\n",
        "\n",
        "# GBDT\n",
        "gbc = GradientBoostingClassifier(random_state=2018)\n",
        "gbc.fit(X_selected, over_samples_y)\n",
        "\n",
        "# xgboost\n",
        "xgb = XGBClassifier(random_state=2018)\n",
        "xgb.fit(X_selected, over_samples_y)\n",
        "\n",
        "# lightgbm\n",
        "lgbm = LGBMClassifier(random_state=2018)\n",
        "lgbm.fit(X_selected, over_samples_y)\n",
        "\n",
        "# 依次对训练好的多个模型用多个指标评价，并画出ROC曲线\n",
        "X_test.drop(['Unnamed: 0','id_name', 'bank_card_no', 'reg_preference_for_trad', 'latest_query_time', 'loans_latest_time','source','student_feature'], axis=1, inplace=True)\n",
        "num = imputer.fit_transform(X_test)\n",
        "X_test = pd.DataFrame(num, columns=X_test.columns)\n",
        "X_test = X_test.iloc[:, importances > 0.01]\n",
        "\n",
        "model_name = [\"lr\", \"dt\", \"svm_linearSVC\", \"rfc\", \"gbc\", \"xgb\", \"lgbm\"]\n",
        "for name in model_name:\n",
        "    model = eval(name)\n",
        "    print(name)\n",
        "    multi_score(model, X_test, Y_test)\n",
        "\n",
        "    "
      ],
      "execution_count": 19,
      "outputs": [
        {
          "output_type": "stream",
          "text": [
            "/usr/local/lib/python3.6/dist-packages/sklearn/linear_model/logistic.py:433: FutureWarning: Default solver will be changed to 'lbfgs' in 0.22. Specify a solver to silence this warning.\n",
            "  FutureWarning)\n",
            "/usr/local/lib/python3.6/dist-packages/sklearn/utils/validation.py:761: DataConversionWarning: A column-vector y was passed when a 1d array was expected. Please change the shape of y to (n_samples, ), for example using ravel().\n",
            "  y = column_or_1d(y, warn=True)\n",
            "/usr/local/lib/python3.6/dist-packages/sklearn/utils/validation.py:761: DataConversionWarning: A column-vector y was passed when a 1d array was expected. Please change the shape of y to (n_samples, ), for example using ravel().\n",
            "  y = column_or_1d(y, warn=True)\n",
            "/usr/local/lib/python3.6/dist-packages/sklearn/svm/base.py:931: ConvergenceWarning: Liblinear failed to converge, increase the number of iterations.\n",
            "  \"the number of iterations.\", ConvergenceWarning)\n",
            "/usr/local/lib/python3.6/dist-packages/ipykernel_launcher.py:62: DataConversionWarning: A column-vector y was passed when a 1d array was expected. Please change the shape of y to (n_samples,), for example using ravel().\n",
            "/usr/local/lib/python3.6/dist-packages/sklearn/utils/validation.py:761: DataConversionWarning: A column-vector y was passed when a 1d array was expected. Please change the shape of y to (n_samples, ), for example using ravel().\n",
            "  y = column_or_1d(y, warn=True)\n",
            "/usr/local/lib/python3.6/dist-packages/sklearn/preprocessing/label.py:219: DataConversionWarning: A column-vector y was passed when a 1d array was expected. Please change the shape of y to (n_samples, ), for example using ravel().\n",
            "  y = column_or_1d(y, warn=True)\n",
            "/usr/local/lib/python3.6/dist-packages/sklearn/preprocessing/label.py:252: DataConversionWarning: A column-vector y was passed when a 1d array was expected. Please change the shape of y to (n_samples, ), for example using ravel().\n",
            "  y = column_or_1d(y, warn=True)\n",
            "/usr/local/lib/python3.6/dist-packages/ipykernel_launcher.py:77: SettingWithCopyWarning: \n",
            "A value is trying to be set on a copy of a slice from a DataFrame\n",
            "\n",
            "See the caveats in the documentation: http://pandas.pydata.org/pandas-docs/stable/indexing.html#indexing-view-versus-copy\n"
          ],
          "name": "stderr"
        },
        {
          "output_type": "stream",
          "text": [
            "lr\n",
            "准确率 0.680448493342677\n",
            "精确率 0.4079696394686907\n",
            "召回率 0.5988857938718662\n",
            "F1-score 0.4853273137697516\n",
            "AUC 0.7162582287461008\n"
          ],
          "name": "stdout"
        },
        {
          "output_type": "display_data",
          "data": {
            "image/png": "[encoded data removed]",
            "text/plain": [
              "<Figure size 576x396 with 1 Axes>"
            ]
          },
          "metadata": {
            "tags": []
          }
        },
        {
          "output_type": "stream",
          "text": [
            "dt\n",
            "准确率 0.7021723896285914\n",
            "精确率 0.417910447761194\n",
            "召回率 0.467966573816156\n",
            "F1-score 0.44152431011826543\n",
            "AUC 0.6244327251103252\n"
          ],
          "name": "stdout"
        },
        {
          "output_type": "display_data",
          "data": {
            "image/png": "[encoded data removed]",
            "text/plain": [
              "<Figure size 576x396 with 1 Axes>"
            ]
          },
          "metadata": {
            "tags": []
          }
        },
        {
          "output_type": "stream",
          "text": [
            "svm_linearSVC\n",
            "准确率 0.7484232655921513\n",
            "精确率 0.0\n",
            "召回率 0.0\n",
            "F1-score 0.0\n",
            "AUC 0.5437023358684652\n"
          ],
          "name": "stdout"
        },
        {
          "output_type": "stream",
          "text": [
            "/usr/local/lib/python3.6/dist-packages/sklearn/metrics/classification.py:1143: UndefinedMetricWarning: Precision is ill-defined and being set to 0.0 due to no predicted samples.\n",
            "  'precision', 'predicted', average, warn_for)\n",
            "/usr/local/lib/python3.6/dist-packages/sklearn/metrics/classification.py:1143: UndefinedMetricWarning: F-score is ill-defined and being set to 0.0 due to no predicted samples.\n",
            "  'precision', 'predicted', average, warn_for)\n"
          ],
          "name": "stderr"
        },
        {
          "output_type": "display_data",
          "data": {
            "image/png": "[encoded data removed]",
            "text/plain": [
              "<Figure size 576x396 with 1 Axes>"
            ]
          },
          "metadata": {
            "tags": []
          }
        },
        {
          "output_type": "stream",
          "text": [
            "rfc\n",
            "准确率 0.7764540995094604\n",
            "精确率 0.5632911392405063\n",
            "召回率 0.4958217270194986\n",
            "F1-score 0.5274074074074074\n",
            "AUC 0.7661771149572786\n"
          ],
          "name": "stdout"
        },
        {
          "output_type": "display_data",
          "data": {
            "image/png": "[encoded data removed]",
            "text/plain": [
              "<Figure size 576x396 with 1 Axes>"
            ]
          },
          "metadata": {
            "tags": []
          }
        },
        {
          "output_type": "stream",
          "text": [
            "gbc\n",
            "准确率 0.7694463910301331\n",
            "精确率 0.5451807228915663\n",
            "召回率 0.5041782729805014\n",
            "F1-score 0.5238784370477569\n",
            "AUC 0.7661419047917123\n"
          ],
          "name": "stdout"
        },
        {
          "output_type": "display_data",
          "data": {
            "image/png": "[encoded data removed]",
            "text/plain": [
              "<Figure size 576x396 with 1 Axes>"
            ]
          },
          "metadata": {
            "tags": []
          }
        },
        {
          "output_type": "stream",
          "text": [
            "xgb\n",
            "准确率 0.7736510161177295\n",
            "精确率 0.5566037735849056\n",
            "召回率 0.49303621169916434\n",
            "F1-score 0.5228951255539144\n",
            "AUC 0.7646396043942287\n"
          ],
          "name": "stdout"
        },
        {
          "output_type": "display_data",
          "data": {
            "image/png": "[encoded data removed]",
            "text/plain": [
              "<Figure size 576x396 with 1 Axes>"
            ]
          },
          "metadata": {
            "tags": []
          }
        },
        {
          "output_type": "stream",
          "text": [
            "lgbm\n",
            "准确率 0.7680448493342676\n",
            "精确率 0.547945205479452\n",
            "召回率 0.4456824512534819\n",
            "F1-score 0.4915514592933948\n",
            "AUC 0.7515675044077911\n"
          ],
          "name": "stdout"
        },
        {
          "output_type": "display_data",
          "data": {
            "image/png": "[encoded data removed]",
            "text/plain": [
              "<Figure size 576x396 with 1 Axes>"
            ]
          },
          "metadata": {
            "tags": []
          }
        }
      ]
    },
    {
      "metadata": {
        "id": "ZToRrNL-CdGX",
        "colab_type": "text"
      },
      "cell_type": "markdown",
      "source": [
        "# 任务二思考及遇到的问题\n",
        "1. X_train和X_test的数据要严格一致，属性数、缺失值等。所以应该在原始全部数据上做预处理，然后在拆分成训练集、测试集。\n",
        "2. 对数据不平衡处理后，数据标签丢失。导致在xgb中特征名称不匹配，跑不出结果  \n",
        "3. IV没有找到很好的结果办法，待改进  \n",
        "  \n",
        "针对对题2，已解决。  \n",
        "smote方法后，丢失了列名并且数据格式转成了array。  \n",
        "所以将其重新传换为Dataframe格式，并且添加列名。  \n",
        "代码如下：  \n",
        "  \n",
        "```\n",
        "df = pd.DataFrame(over_samples_X)\n",
        "df.columns = list(X_train[1:0])\n",
        "over_samples_X = df\n",
        "over_samples_y = pd.DataFrame(over_samples_y)\n",
        "```"
      ]
    },
    {
      "metadata": {
        "id": "JijuK0MB0-V1",
        "colab_type": "text"
      },
      "cell_type": "markdown",
      "source": [
        "# 任务三 模型融合\n",
        "首先介绍一款功能强大的stacking利器，mlxtend库，它可以很快地完成对sklearn模型地stacking。  \n",
        "\n",
        "**StackingClassifier 使用API及参数解析：**\n",
        "  \n",
        "```\n",
        "StackingClassifier(classifiers, meta_classifier, use_probas=False, average_probas=False, verbose=0, use_features_in_secondary=False)\n",
        "```\n",
        "  \n",
        "**参数：**\n",
        "\n",
        "* classifiers : 基分类器，数组形式，[cl1, cl2, cl3]. 每个基分类器的属性被存储在类属性 self.clfs_.  \n",
        "* meta_classifier : 目标分类器，即将前面分类器合起来的分类器  \n",
        "* use_probas : bool (default: False) ，如果设置为True， 那么目标分类器的输入就是前面分类输出的类别概率值而不是类别标签  \n",
        "* average_probas : bool (default: False)，用来设置上一个参数当使用概率值输出的时候是否使用平均值。  \n",
        "* verbose : int, optional (default=0)。用来控制使用过程中的日志输出，当 verbose = 0时，什么也不输出， verbose = 1，输出回归器的序号和名字。verbose = 2，输出详细的参数信息。verbose > 2, 自动将verbose设置为小于2的，verbose -2.  \n",
        "* use_features_in_secondary : bool (default: False). 如果设置为True，那么最终的目标分类器就被基分类器产生的数据和最初的数据集同时训练。如果设置为False，最终的分类器只会使用基分类器产生的数据训练。  \n",
        "  \n",
        "**属性：**  \n",
        "* clfs_ : 每个基分类器的属性，list, shape 为 [n_classifiers]。  \n",
        "* meta_clf_ : 最终目标分类器的属性  \n",
        " "
      ]
    },
    {
      "metadata": {
        "id": "O5YwTre3TL6i",
        "colab_type": "code",
        "colab": {
          "base_uri": "https://localhost:8080/",
          "height": 691
        },
        "outputId": "c23c7ea4-2d2d-4f05-f354-d7ef28b07769"
      },
      "cell_type": "code",
      "source": [
        "# stacking模型\n",
        "stack = StackingClassifier(classifiers=[lr, dt, gbc, xgb, lgbm], use_probas=True,\n",
        "                          average_probas=False,\n",
        "                          meta_classifier=rfc)\n",
        "\n",
        "stack.fit(X_selected, over_samples_y)\n",
        "multi_score(stack, X_test, Y_test)"
      ],
      "execution_count": 25,
      "outputs": [
        {
          "output_type": "stream",
          "text": [
            "/usr/local/lib/python3.6/dist-packages/sklearn/linear_model/logistic.py:433: FutureWarning: Default solver will be changed to 'lbfgs' in 0.22. Specify a solver to silence this warning.\n",
            "  FutureWarning)\n",
            "/usr/local/lib/python3.6/dist-packages/sklearn/utils/validation.py:761: DataConversionWarning: A column-vector y was passed when a 1d array was expected. Please change the shape of y to (n_samples, ), for example using ravel().\n",
            "  y = column_or_1d(y, warn=True)\n",
            "/usr/local/lib/python3.6/dist-packages/sklearn/utils/validation.py:761: DataConversionWarning: A column-vector y was passed when a 1d array was expected. Please change the shape of y to (n_samples, ), for example using ravel().\n",
            "  y = column_or_1d(y, warn=True)\n",
            "/usr/local/lib/python3.6/dist-packages/sklearn/preprocessing/label.py:219: DataConversionWarning: A column-vector y was passed when a 1d array was expected. Please change the shape of y to (n_samples, ), for example using ravel().\n",
            "  y = column_or_1d(y, warn=True)\n",
            "/usr/local/lib/python3.6/dist-packages/sklearn/preprocessing/label.py:252: DataConversionWarning: A column-vector y was passed when a 1d array was expected. Please change the shape of y to (n_samples, ), for example using ravel().\n",
            "  y = column_or_1d(y, warn=True)\n",
            "/usr/local/lib/python3.6/dist-packages/mlxtend/classifier/stacking_classification.py:171: DataConversionWarning: A column-vector y was passed when a 1d array was expected. Please change the shape of y to (n_samples,), for example using ravel().\n",
            "  self.meta_clf_.fit(meta_features, y)\n"
          ],
          "name": "stderr"
        },
        {
          "output_type": "stream",
          "text": [
            "准确率 0.7021723896285914\n",
            "精确率 0.417910447761194\n",
            "召回率 0.467966573816156\n",
            "F1-score 0.44152431011826543\n",
            "AUC 0.6886247691778036\n"
          ],
          "name": "stdout"
        },
        {
          "output_type": "display_data",
          "data": {
            "image/png": "[encoded data removed]",
            "text/plain": [
              "<Figure size 576x396 with 1 Axes>"
            ]
          },
          "metadata": {
            "tags": []
          }
        }
      ]
    },
    {
      "metadata": {
        "id": "DmOudaiz9yTv",
        "colab_type": "text"
      },
      "cell_type": "markdown",
      "source": [
        "报错：AttributeError: 'LinearSVC' object has no attribute 'predict_proba'    \n",
        "暂时不用这个模型。。。  \n",
        "\n",
        "rfc  \n",
        "准确率 0.7764540995094604  \n",
        "精确率 0.5632911392405063  \n",
        "召回率 0.4958217270194986  \n",
        "F1-score 0.5274074074074074  \n",
        "AUC 0.7661771149572786  \n",
        "\n",
        "stack\n",
        "准确率 0.7021723896285914  \n",
        "精确率 0.417910447761194  \n",
        "召回率 0.467966573816156  \n",
        "F1-score 0.44152431011826543  \n",
        "AUC 0.6886247691778036  \n",
        "\n",
        "除了F1有略微提升，其他指标都不如初始的rfc。  "
      ]
    },
    {
      "metadata": {
        "id": "hj8holEs-vnR",
        "colab_type": "text"
      },
      "cell_type": "markdown",
      "source": [
        "## 参考资料\n",
        "[stacking 的基本思想及代码实现] https://goo.gl/JkmffM  \n",
        "[StackingClassifier官方文档] https://goo.gl/69gAM8  \n",
        "[如何在 Kaggle 首战中进入前 10%] https://goo.gl/VgjxDq"
      ]
    },
    {
      "metadata": {
        "id": "CyxL2bo7_cK-",
        "colab_type": "code",
        "colab": {}
      },
      "cell_type": "code",
      "source": [
        ""
      ],
      "execution_count": 0,
      "outputs": []
    }
  ]
}